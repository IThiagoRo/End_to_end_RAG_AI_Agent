{
  "nbformat": 4,
  "nbformat_minor": 0,
  "metadata": {
    "colab": {
      "provenance": []
    },
    "kernelspec": {
      "name": "python3",
      "display_name": "Python 3"
    },
    "language_info": {
      "name": "python"
    }
  },
  "cells": [
    {
      "cell_type": "markdown",
      "source": [
        "# **Interacting with RAG AI Agent API:**\n"
      ],
      "metadata": {
        "id": "n77pUMBzxaU-"
      }
    },
    {
      "cell_type": "code",
      "source": [
        "import requests"
      ],
      "metadata": {
        "id": "EKOgTiTGvmqj"
      },
      "execution_count": 2,
      "outputs": []
    },
    {
      "cell_type": "code",
      "source": [
        "def process_arxiv_articles(query=\"Cancer\"):\n",
        "    \"\"\"Sends a request to process arXiv articles based on a query.\"\"\"\n",
        "    url = \"http://ec2-54-197-105-185.compute-1.amazonaws.com:8000/process/\"\n",
        "    params = {\"query\": query}\n",
        "    response = requests.get(url, params=params)\n",
        "    return response.json()"
      ],
      "metadata": {
        "id": "k0QYQ0rlverN"
      },
      "execution_count": 3,
      "outputs": []
    },
    {
      "cell_type": "code",
      "source": [
        "def query_rag_system(question):\n",
        "    \"\"\"Sends a query to the RAG system and retrieves an answer.\"\"\"\n",
        "    url = \"http://ec2-54-197-105-185.compute-1.amazonaws.com:8000/query/\"\n",
        "    data = {\"question\": question}\n",
        "    response = requests.post(url, json=data)\n",
        "    return response.json()"
      ],
      "metadata": {
        "id": "rI6ExZv5vh3g"
      },
      "execution_count": 8,
      "outputs": []
    },
    {
      "cell_type": "code",
      "execution_count": 9,
      "metadata": {
        "colab": {
          "base_uri": "https://localhost:8080/"
        },
        "id": "Bywl3a5UvZmf",
        "outputId": "b8349bdf-926c-4db2-8fe8-74bcca86a739"
      },
      "outputs": [
        {
          "output_type": "stream",
          "name": "stdout",
          "text": [
            "Processing arXiv articles...\n",
            "{'message': 'Processing complete', 'arxiv_ids': ['2203.00502v1']}\n"
          ]
        }
      ],
      "source": [
        "# Example usage\n",
        "print(\"Processing arXiv articles...\")\n",
        "result = process_arxiv_articles(\"Cancer\")\n",
        "print(result)"
      ]
    },
    {
      "cell_type": "code",
      "source": [
        "print(\"Querying the RAG system...\")\n",
        "response = query_rag_system(\"Tell me about breast cancer\")\n",
        "print(response)"
      ],
      "metadata": {
        "colab": {
          "base_uri": "https://localhost:8080/"
        },
        "id": "Fh7L7hfYwRue",
        "outputId": "e3ba423d-9a45-4ebf-85d2-7af216f87a00"
      },
      "execution_count": 10,
      "outputs": [
        {
          "output_type": "stream",
          "name": "stdout",
          "text": [
            "Querying the RAG system...\n",
            "{'question': 'Tell me about breast cancer', 'answer': \" \\nBased on the provided context, breast cancer is a serious threat to women's health worldwide. The study analyzed a dataset of 1,117 articles related to breast cancer, which is the most extensive dataset in the analysis. The co-word network of breast cancer contains 2,319 nodes (keywords) and 2,318 links, with 14 sensors interconnected to the other nodes. The study found three sub-groups in the network, with group 1 related to breast cancer having five hot topics, including autophagy, immunoassay, electrochemical biosensor, tumorigenesis, and microRNA. These hot topics are significantly related to electrochemical biosensor, electrochemical sensor, oxygen sensor, immuno sensor, and array-based sensor. Overall, the study aimed to investigate sensor technology and research in breast cancer, providing insights into the co-occurrence of keywords and sensors in the field. With a Betweenness centrality value, the study identified key sensors and keywords in the breast cancer network, highlighting the importance of electrochemical biosensors and immunoassays in breast cancer research.\"}\n"
          ]
        }
      ]
    },
    {
      "cell_type": "code",
      "source": [
        "print(response['answer'])"
      ],
      "metadata": {
        "colab": {
          "base_uri": "https://localhost:8080/"
        },
        "id": "WuPutDO5wu7o",
        "outputId": "641da172-e7c7-48aa-adaf-bb72f6f3a160"
      },
      "execution_count": 12,
      "outputs": [
        {
          "output_type": "stream",
          "name": "stdout",
          "text": [
            " \n",
            "Based on the provided context, breast cancer is a serious threat to women's health worldwide. The study analyzed a dataset of 1,117 articles related to breast cancer, which is the most extensive dataset in the analysis. The co-word network of breast cancer contains 2,319 nodes (keywords) and 2,318 links, with 14 sensors interconnected to the other nodes. The study found three sub-groups in the network, with group 1 related to breast cancer having five hot topics, including autophagy, immunoassay, electrochemical biosensor, tumorigenesis, and microRNA. These hot topics are significantly related to electrochemical biosensor, electrochemical sensor, oxygen sensor, immuno sensor, and array-based sensor. Overall, the study aimed to investigate sensor technology and research in breast cancer, providing insights into the co-occurrence of keywords and sensors in the field. With a Betweenness centrality value, the study identified key sensors and keywords in the breast cancer network, highlighting the importance of electrochemical biosensors and immunoassays in breast cancer research.\n"
          ]
        }
      ]
    }
  ]
}